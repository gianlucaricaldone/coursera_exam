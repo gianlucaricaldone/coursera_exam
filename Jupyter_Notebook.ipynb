{
 "cells": [
  {
   "cell_type": "markdown",
   "metadata": {},
   "source": [
    "# My Jupyter Notebook for the Coursera Exam"
   ]
  },
  {
   "cell_type": "markdown",
   "metadata": {},
   "source": [
    "Hi, in this Notebook I will provide all exercises for the \"Peer-graded Assignment\""
   ]
  },
  {
   "cell_type": "markdown",
   "metadata": {},
   "source": [
    "The recommended Data Science languages are:\n",
    "- Python\n",
    "- R\n",
    "- SQL\n",
    "\n",
    "There are many more languages that can be useful like:\n",
    "- Java\n",
    "- Scala\n",
    "- C++\n",
    "- Julia"
   ]
  },
  {
   "cell_type": "markdown",
   "metadata": {},
   "source": [
    "Data Science libraries:\n",
    "- Panda\n",
    "- NumPY\n",
    "- MathPlotLib\n",
    "- SeaBorn\n",
    "- Scikit-Learn\n",
    "- Keras\n",
    "- Tensorflow\n",
    "- PyThorch\n",
    "- Vegas\n",
    "- BigDL\n",
    "- GgPlot2"
   ]
  },
  {
   "cell_type": "markdown",
   "metadata": {},
   "source": [
    "Data Science tools:\n",
    "\n",
    "<table>\n",
    "    <tr>\n",
    "        <td>IBM Watson Knowledge Catalog</td>\n",
    "    </tr>\n",
    "    <tr>\n",
    "        <td>IBM Data Rafinery</td>\n",
    "    </tr>\n",
    "    <tr>\n",
    "        <td>SPSS Modeler Flows</td>\n",
    "    </tr>\n",
    "    <tr>\n",
    "        <td>IBM SPSS Modeler</td>\n",
    "    </tr>\n",
    "    <tr>\n",
    "        <td>SPSS Statistics</td>\n",
    "    </tr>\n",
    "    <tr>\n",
    "        <td>Auto AI</td>\n",
    "    </tr>\n",
    "    <tr>\n",
    "        <td>Open Scale</td>\n",
    "    </tr>\n",
    "</table>"
   ]
  },
  {
   "cell_type": "markdown",
   "metadata": {},
   "source": [
    "In the next cells, you will see some arithmetic operations that can be performed with Jupyter Notebook"
   ]
  },
  {
   "cell_type": "code",
   "execution_count": 16,
   "metadata": {},
   "outputs": [
    {
     "data": {
      "text/plain": [
       "19"
      ]
     },
     "execution_count": 16,
     "metadata": {},
     "output_type": "execute_result"
    }
   ],
   "source": [
    "3 * 4 + 7"
   ]
  },
  {
   "cell_type": "code",
   "execution_count": 17,
   "metadata": {},
   "outputs": [
    {
     "data": {
      "text/plain": [
       "1.0"
      ]
     },
     "execution_count": 17,
     "metadata": {},
     "output_type": "execute_result"
    }
   ],
   "source": [
    "def minute_to_hour(min):\n",
    "    return (min/60)\n",
    "\n",
    "minute_to_hour(60)"
   ]
  },
  {
   "cell_type": "markdown",
   "metadata": {},
   "source": [
    "In this notebook, after the introduction, we enunciated the main languages and tools that are used in Data Science.\n",
    "Next, we learned the basic features of Jupyter Notebook such as mathematical operations, ability to write python code, HTML, text, etc."
   ]
  },
  {
   "cell_type": "markdown",
   "metadata": {},
   "source": [
    "Author: \n",
    "__Ricaldone Gianluca__"
   ]
  },
  {
   "cell_type": "code",
   "execution_count": null,
   "metadata": {},
   "outputs": [],
   "source": []
  }
 ],
 "metadata": {
  "kernelspec": {
   "display_name": "Python",
   "language": "python",
   "name": "conda-env-python-py"
  },
  "language_info": {
   "codemirror_mode": {
    "name": "ipython",
    "version": 3
   },
   "file_extension": ".py",
   "mimetype": "text/x-python",
   "name": "python",
   "nbconvert_exporter": "python",
   "pygments_lexer": "ipython3",
   "version": "3.7.12"
  }
 },
 "nbformat": 4,
 "nbformat_minor": 4
}
